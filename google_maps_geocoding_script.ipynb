{
 "cells": [
  {
   "cell_type": "code",
   "execution_count": 2,
   "id": "7b1a4523-7139-484d-bce4-ed122d4f4732",
   "metadata": {},
   "outputs": [
    {
     "name": "stdout",
     "output_type": "stream",
     "text": [
      "Geocoding complete. Results written to C:\\Users\\ducketju\\OneDrive - Government of Ontario\\Documents\\Jupyter Notebooks\\geocoding_locations\\convenience_locations_coordinates.csv\n"
     ]
    }
   ],
   "source": [
    "# import python modules\n",
    "import csv\n",
    "import requests\n",
    "import time\n",
    "\n",
    "# This function makes a request to the Google Maps Geocoding API and extracts the relevant information. \n",
    "# You pass in an address and an API key, and it returns the coordinates.\n",
    "\n",
    "def geocode_address(address, api_key):\n",
    "    base_url = \"https://maps.googleapis.com/maps/api/geocode/json\"\n",
    "    params = {\n",
    "        \"address\": address,\n",
    "        \"key\": api_key\n",
    "    }\n",
    "    response = requests.get(base_url, params=params)\n",
    "    data = response.json()\n",
    "    \n",
    "    if data[\"status\"] == \"OK\":\n",
    "        location = data[\"results\"][0][\"geometry\"][\"location\"]\n",
    "        return location[\"lat\"], location[\"lng\"]\n",
    "    else:\n",
    "        return None, None\n",
    "\n",
    "# This function processes the entire CSV file, geocoding each address and creating a new file with the results. \n",
    "# It handles file I/O, CSV parsing and writing, and integrates with the geocoding function while implementing basic rate limiting.\n",
    "\n",
    "def process_csv(input_file, output_file, api_key):\n",
    "    with open(input_file, 'r') as infile, open(output_file, 'w', newline='') as outfile:\n",
    "        reader = csv.reader(infile)\n",
    "        writer = csv.writer(outfile)\n",
    "        \n",
    "        # Write header\n",
    "        header = next(reader)\n",
    "        writer.writerow(header + ['Latitude', 'Longitude'])\n",
    "        \n",
    "        for row in reader:\n",
    "            address = row[0]\n",
    "            lat, lng = geocode_address(address, api_key)\n",
    "            writer.writerow(row + [lat, lng])\n",
    "            time.sleep(0.1)  # To avoid hitting API rate limits\n",
    "\n",
    "# this section sets up the input and output filenames, defines the API key, and calls the process_csv function. \n",
    "# this section only runs when you run the script directly.\n",
    "\n",
    "if __name__ == \"__main__\":\n",
    "    input_file = r\"C:\\Users\\fake_user\\python_files\\addresses.csv\" # Replace with an existing file path of a csv containing addresses\n",
    "    output_file = r\"C:\\Users\\fake_user\\python_files\\addresses_geocoded.csv\" # Replace with an output file path\n",
    "    api_key = 'xxxxxxxxxxxxxxxxx'  # Replace with your Google Maps geocoding API key\n",
    "    \n",
    "    process_csv(input_file, output_file, api_key)\n",
    "    print(\"Geocoding complete. Results written to\", output_file)"
   ]
  },
  {
   "cell_type": "code",
   "execution_count": null,
   "id": "72d2845c-4832-4408-a5a4-f8b6622f9c7a",
   "metadata": {},
   "outputs": [],
   "source": []
  }
 ],
 "metadata": {
  "kernelspec": {
   "display_name": "Python 3 (ipykernel)",
   "language": "python",
   "name": "python3"
  },
  "language_info": {
   "codemirror_mode": {
    "name": "ipython",
    "version": 3
   },
   "file_extension": ".py",
   "mimetype": "text/x-python",
   "name": "python",
   "nbconvert_exporter": "python",
   "pygments_lexer": "ipython3",
   "version": "3.13.1"
  }
 },
 "nbformat": 4,
 "nbformat_minor": 5
}
